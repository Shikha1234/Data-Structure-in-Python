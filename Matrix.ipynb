{
 "cells": [
  {
   "cell_type": "raw",
   "metadata": {},
   "source": [
    "Matrix : it is a special case of 2d array where each data element is of strictle same size. So every matrix ia 2d array but not vice versa"
   ]
  },
  {
   "cell_type": "code",
   "execution_count": 5,
   "metadata": {},
   "outputs": [
    {
     "name": "stdout",
     "output_type": "stream",
     "text": [
      "[['Mon' '18' '20' '22' '17']\n",
      " ['Tue' '11' '18' '21' '18']\n",
      " ['Wed' '15' '21' '20' '19']\n",
      " ['Thu' '11' '20' '22' '21']\n",
      " ['Fri' '18' '17' '23' '22']\n",
      " ['Sat' '12' '22' '20' '18']\n",
      " ['Sun' '13' '15' '19' '16']]\n"
     ]
    }
   ],
   "source": [
    "#Matrix Example\n",
    "\n",
    "#Case: Recording tempreture for 1 week in the morning, mid-day, afternoon and evening.\n",
    "#it is 7X5 matrix\n",
    "#Will use numpy array \n",
    "\n",
    "from numpy import *\n",
    "\n",
    "a = array([['Mon',18,20,22,17],['Tue',11,18,21,18],['Wed',15,21,20,19],['Thu',11,20,22,21],  ['Fri',18,17,23,22],['Sat',12,22,20,18],\n",
    "['Sun',13,15,19,16]])\n",
    "\n",
    "m = reshape(a,(7,5))\n",
    "print(m)"
   ]
  },
  {
   "cell_type": "code",
   "execution_count": 7,
   "metadata": {},
   "outputs": [
    {
     "name": "stdout",
     "output_type": "stream",
     "text": [
      "['Wed' '15' '21' '20' '19']\n",
      "23\n"
     ]
    }
   ],
   "source": [
    "#Accessing values in Matrix\n",
    "\n",
    "from numpy import *\n",
    "\n",
    "a = array([['Mon',18,20,22,17],['Tue',11,18,21,18],['Wed',15,21,20,19],['Thu',11,20,22,21],  ['Fri',18,17,23,22],['Sat',12,22,20,18],\n",
    "['Sun',13,15,19,16]])\n",
    "\n",
    "#print the data for wednesday\n",
    "print(a[2])\n",
    "\n",
    "#Print data for friday evening \n",
    "print(a[4][3])"
   ]
  },
  {
   "cell_type": "code",
   "execution_count": 11,
   "metadata": {},
   "outputs": [
    {
     "name": "stdout",
     "output_type": "stream",
     "text": [
      "[['Mon' '18' '20' '22' '17']\n",
      " ['Tue' '11' '18' '21' '18']\n",
      " ['Wed' '15' '21' '20' '19']\n",
      " ['Thu' '11' '20' '22' '21']\n",
      " ['Fri' '18' '17' '23' '22']\n",
      " ['Sat' '12' '22' '20' '18']\n",
      " ['Sun' '13' '15' '19' '16']\n",
      " ['Avg' '12' '13' '15' '11']]\n"
     ]
    }
   ],
   "source": [
    "#Adding a Row in tha data\n",
    "\n",
    "from numpy import *\n",
    "\n",
    "a = array([['Mon',18,20,22,17],['Tue',11,18,21,18],['Wed',15,21,20,19],['Thu',11,20,22,21],  ['Fri',18,17,23,22],['Sat',12,22,20,18],\n",
    "['Sun',13,15,19,16]])\n",
    "\n",
    "a_r = append(a,[['Avg',12,13,15,11]],0)\n",
    "#append(array_name,value_append,axis = 0 for row)\n",
    "\n",
    "print(a_r)"
   ]
  },
  {
   "cell_type": "code",
   "execution_count": 13,
   "metadata": {},
   "outputs": [
    {
     "name": "stdout",
     "output_type": "stream",
     "text": [
      "[['Mon' '18' '20' '22' '17' '1']\n",
      " ['Tue' '11' '18' '21' '18' '2']\n",
      " ['Wed' '15' '21' '20' '19' '3']\n",
      " ['Thu' '11' '20' '22' '21' '4']\n",
      " ['Fri' '18' '17' '23' '22' '5']\n",
      " ['Sat' '12' '22' '20' '18' '6']\n",
      " ['Sun' '13' '15' '19' '16' '7']]\n"
     ]
    }
   ],
   "source": [
    "#Adding A column \n",
    "\n",
    "from numpy import *\n",
    "a = array([['Mon',18,20,22,17],['Tue',11,18,21,18],['Wed',15,21,20,19],['Thu',11,20,22,21],  ['Fri',18,17,23,22],['Sat',12,22,20,18],\n",
    "['Sun',13,15,19,16]])\n",
    "\n",
    "a_c = insert(a,[5],[[1],[2],[3],[4],[5],[6],[7]],1)\n",
    "#insert(array_name, index, value, axis = 1 for column )\n",
    "\n",
    "print(a_c)"
   ]
  },
  {
   "cell_type": "code",
   "execution_count": 15,
   "metadata": {},
   "outputs": [
    {
     "name": "stdout",
     "output_type": "stream",
     "text": [
      "[['Mon' '18' '20' '22' '17']\n",
      " ['Tue' '11' '18' '21' '18']\n",
      " ['Thu' '11' '20' '22' '21']\n",
      " ['Fri' '18' '17' '23' '22']\n",
      " ['Sat' '12' '22' '20' '18']\n",
      " ['Sun' '13' '15' '19' '16']]\n"
     ]
    }
   ],
   "source": [
    "#Delete a row from a matrix\n",
    "\n",
    "from numpy import *\n",
    "\n",
    "a = array([['Mon',18,20,22,17],['Tue',11,18,21,18],['Wed',15,21,20,19],['Thu',11,20,22,21],  ['Fri',18,17,23,22],['Sat',12,22,20,18],\n",
    "['Sun',13,15,19,16]])\n",
    "\n",
    "m = delete(a,[2],0)\n",
    "print(m)"
   ]
  },
  {
   "cell_type": "code",
   "execution_count": 16,
   "metadata": {},
   "outputs": [
    {
     "name": "stdout",
     "output_type": "stream",
     "text": [
      "[['Mon' '18' '22' '17']\n",
      " ['Tue' '11' '21' '18']\n",
      " ['Wed' '15' '20' '19']\n",
      " ['Thu' '11' '22' '21']\n",
      " ['Fri' '18' '23' '22']\n",
      " ['Sat' '12' '20' '18']\n",
      " ['Sun' '13' '19' '16']]\n"
     ]
    }
   ],
   "source": [
    "#Delete A column from a matrix \n",
    "\n",
    "from numpy import *\n",
    "a = array([['Mon',18,20,22,17],['Tue',11,18,21,18],['Wed',15,21,20,19],['Thu',11,20,22,21],  ['Fri',18,17,23,22],['Sat',12,22,20,18],\n",
    "['Sun',13,15,19,16]])\n",
    "\n",
    "a_c = delete(a,s_[2],1)\n",
    "\n",
    "print(a_c)"
   ]
  },
  {
   "cell_type": "code",
   "execution_count": 17,
   "metadata": {},
   "outputs": [
    {
     "name": "stdout",
     "output_type": "stream",
     "text": [
      "[['Mon' '18' '20' '22' '17']\n",
      " ['Tue' '11' '18' '21' '18']\n",
      " ['Wed' '15' '21' '20' '19']\n",
      " ['Thu' '0' '0' '0' '0']\n",
      " ['Fri' '18' '17' '23' '22']\n",
      " ['Sat' '12' '22' '20' '18']\n",
      " ['Sun' '13' '15' '19' '16']]\n"
     ]
    }
   ],
   "source": [
    "#Updating a row in a Matrix\n",
    "\n",
    "from numpy import *\n",
    "\n",
    "a = array([['Mon',18,20,22,17],['Tue',11,18,21,18],\n",
    "['Wed',15,21,20,19],['Thu',11,20,22,21],['Fri',18,17,23,22],['Sat',12,22,20,18],['Sun',13,15,19,16]])\n",
    "\n",
    "a[3] = ['Thu',0,0,0,0]\n",
    "\n",
    "print(a)"
   ]
  },
  {
   "cell_type": "code",
   "execution_count": null,
   "metadata": {},
   "outputs": [],
   "source": []
  }
 ],
 "metadata": {
  "kernelspec": {
   "display_name": "Python 3",
   "language": "python",
   "name": "python3"
  },
  "language_info": {
   "codemirror_mode": {
    "name": "ipython",
    "version": 3
   },
   "file_extension": ".py",
   "mimetype": "text/x-python",
   "name": "python",
   "nbconvert_exporter": "python",
   "pygments_lexer": "ipython3",
   "version": "3.6.5"
  }
 },
 "nbformat": 4,
 "nbformat_minor": 2
}
