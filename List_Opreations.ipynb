{
 "cells": [
  {
   "cell_type": "code",
   "execution_count": 3,
   "metadata": {},
   "outputs": [
    {
     "name": "stdout",
     "output_type": "stream",
     "text": [
      "['shikha', 'pandey', 1994, 7]\n",
      "['apple', 'orange', 'pineapple']\n",
      "[1, 2, 3, 4, 5]\n"
     ]
    }
   ],
   "source": [
    "#list Type in Python \n",
    "\n",
    "list1 = ['shikha', 'pandey', 1994,7]\n",
    "list2 = [\"apple\", \"orange\", \"pineapple\"]\n",
    "list3 = [1,2,3,4,5]\n",
    "\n",
    "print(list1)\n",
    "print(list2)\n",
    "print(list3)"
   ]
  },
  {
   "cell_type": "code",
   "execution_count": 7,
   "metadata": {},
   "outputs": [
    {
     "name": "stdout",
     "output_type": "stream",
     "text": [
      "list1[0] shikha\n",
      "list2[2] ['orange', 'pineapple']\n"
     ]
    }
   ],
   "source": [
    "#Accesing Value in the list \n",
    "\n",
    "list1 = ['shikha', 'pandey', 1994,7]\n",
    "list2 = [\"apple\", \"orange\", \"pineapple\"]\n",
    "\n",
    "print(\"list1[0]\", list1[0])\n",
    "print(\"list2[2]\",list2[1:3])"
   ]
  },
  {
   "cell_type": "code",
   "execution_count": 11,
   "metadata": {},
   "outputs": [
    {
     "name": "stdout",
     "output_type": "stream",
     "text": [
      "Value at index [0] is  maths\n",
      "New Value at index [0] is Physics\n"
     ]
    }
   ],
   "source": [
    "#updating list \n",
    "\n",
    "list = ['maths','chemistry', 1997, 2200]\n",
    "print(\"Value at index [0] is \", list[0])\n",
    "list[0] ='Physics'\n",
    "print(\"New Value at index [0] is\", list[0])"
   ]
  },
  {
   "cell_type": "code",
   "execution_count": 16,
   "metadata": {},
   "outputs": [
    {
     "name": "stdout",
     "output_type": "stream",
     "text": [
      "Before deleting value at index[0]: ['physics', 'maths', 1994, 2001]\n",
      "After deleting value at index[0]: ['maths', 1994, 2001]\n"
     ]
    }
   ],
   "source": [
    "#Delete list element\n",
    "\n",
    "list1 = ['physics', 'maths', 1994, 2001]\n",
    "\n",
    "print(\"Before deleting value at index[0]:\", list1)\n",
    "del list1[0]\n",
    "print(\"After deleting value at index[0]:\", list1)"
   ]
  },
  {
   "cell_type": "code",
   "execution_count": 33,
   "metadata": {},
   "outputs": [
    {
     "name": "stdout",
     "output_type": "stream",
     "text": [
      "To Find length of list:- 3\n",
      "Concatenation of two list:- [1, 2, 3, 5, 6, 7]\n",
      "Repitition:- ['Shikha', 'Shikha', 'Shikha', 'Shikha', 'Shikha']\n",
      "Membership(Return True if element is in list):- True\n",
      "Iteration:-\n",
      "1\n",
      "2\n",
      "3\n"
     ]
    }
   ],
   "source": [
    "#Basic list Opreation \n",
    "\n",
    "print(\"To Find length of list:-\",len([1,2,3]))\n",
    "print(\"Concatenation of two list:-\",[1,2,3]+[5,6,7])\n",
    "print(\"Repitition:-\", ['Shikha']*5)\n",
    "print(\"Membership(Return True if element is in list):-\", 'sp' in ['sp',2,3])\n",
    "print(\"Iteration:-\")\n",
    "for x in [1,2,3]: print (x)"
   ]
  },
  {
   "cell_type": "code",
   "execution_count": null,
   "metadata": {},
   "outputs": [],
   "source": []
  },
  {
   "cell_type": "code",
   "execution_count": null,
   "metadata": {},
   "outputs": [],
   "source": []
  }
 ],
 "metadata": {
  "kernelspec": {
   "display_name": "Python 3",
   "language": "python",
   "name": "python3"
  },
  "language_info": {
   "codemirror_mode": {
    "name": "ipython",
    "version": 3
   },
   "file_extension": ".py",
   "mimetype": "text/x-python",
   "name": "python",
   "nbconvert_exporter": "python",
   "pygments_lexer": "ipython3",
   "version": "3.6.5"
  }
 },
 "nbformat": 4,
 "nbformat_minor": 2
}
