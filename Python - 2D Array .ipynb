{
 "cells": [
  {
   "cell_type": "raw",
   "metadata": {},
   "source": [
    "2D Array : It is an array of arrays and position of an data element is referred by  2 indices"
   ]
  },
  {
   "cell_type": "code",
   "execution_count": 3,
   "metadata": {},
   "outputs": [],
   "source": [
    "#Sample Data\n",
    "#arr1 - 11 12 24 13\n",
    "#arr2 - 15 4 5\n",
    "#arr3 - 34 4 10 6\n",
    "#arr4 - 9 8 7 17\n",
    "\n",
    "#The above data can represented as a two dimentinal array as below:\n",
    "\n",
    "T = [[11, 12, 24, 13],[15, 4, 5],[34, 4, 10, 6],[9, 8, 7, 17]]"
   ]
  },
  {
   "cell_type": "code",
   "execution_count": 7,
   "metadata": {},
   "outputs": [
    {
     "name": "stdout",
     "output_type": "stream",
     "text": [
      "[34, 4, 10, 6]\n",
      "5\n"
     ]
    }
   ],
   "source": [
    "#Accessing Values in Two Dimentional Array\n",
    "\n",
    "from array import *\n",
    "\n",
    "T = [[11, 12, 24, 13],[15, 4, 5],[34, 4, 10, 6],[9, 8, 7, 17]]\n",
    "\n",
    "print(T[2])\n",
    "\n",
    "print(T[1][2])"
   ]
  },
  {
   "cell_type": "code",
   "execution_count": 10,
   "metadata": {},
   "outputs": [
    {
     "name": "stdout",
     "output_type": "stream",
     "text": [
      "11 12 24 13 \n",
      "15 4 5 \n",
      "34 4 10 6 \n",
      "9 8 7 17 \n"
     ]
    }
   ],
   "source": [
    "#Use For loop to print out the values in different rows \n",
    "\n",
    "for r in T:\n",
    "    for c in r:\n",
    "        print(c,end = \" \")\n",
    "    print() \n",
    "   "
   ]
  },
  {
   "cell_type": "code",
   "execution_count": 13,
   "metadata": {},
   "outputs": [
    {
     "name": "stdout",
     "output_type": "stream",
     "text": [
      "11 12 24 13 \n",
      "15 4 5 \n",
      "0 11 4 6 1 \n",
      "34 4 10 6 \n",
      "9 8 7 17 \n"
     ]
    }
   ],
   "source": [
    "#Inserting value in Two Dimentional Array\n",
    "from array import *\n",
    "\n",
    "T = [[11, 12, 24, 13],[15, 4, 5],[34, 4, 10, 6],[9, 8, 7, 17]]\n",
    "\n",
    "T.insert(2, [0,11,4,6,1])\n",
    "\n",
    "for r in T:\n",
    "    for c in r:\n",
    "        print(c, end = \" \")\n",
    "    print()    "
   ]
  },
  {
   "cell_type": "code",
   "execution_count": 14,
   "metadata": {},
   "outputs": [
    {
     "name": "stdout",
     "output_type": "stream",
     "text": [
      "11 12 24 99 \n",
      "15 4 5 \n",
      "11 17 \n",
      "9 8 7 17 \n"
     ]
    }
   ],
   "source": [
    "#Updating values in Two Dimensional Array \n",
    "\n",
    "from array import *\n",
    "\n",
    "T = [[11, 12, 24, 13],[15, 4, 5],[34, 4, 10, 6],[9, 8, 7, 17]]\n",
    "\n",
    "T[2] = [11,17]\n",
    "T[0][3] = 99\n",
    "\n",
    "for r in T:\n",
    "    for c in r:\n",
    "        print(c, end =\" \")\n",
    "    print()    "
   ]
  },
  {
   "cell_type": "code",
   "execution_count": 18,
   "metadata": {},
   "outputs": [
    {
     "name": "stdout",
     "output_type": "stream",
     "text": [
      "11 12 24 13 \n",
      "15 4 5 \n",
      "34 4 10 6 \n"
     ]
    }
   ],
   "source": [
    "#Deleting the values in TWo Dimentional Array\n",
    "T = [[11, 12, 24, 13],[15, 4, 5],[34, 4, 10, 6],[9, 8, 7, 17]]\n",
    "\n",
    "del T[3]\n",
    "\n",
    "for r in T:\n",
    "    for c in r:\n",
    "        print(c, end=\" \")\n",
    "    print()    "
   ]
  },
  {
   "cell_type": "code",
   "execution_count": null,
   "metadata": {},
   "outputs": [],
   "source": []
  }
 ],
 "metadata": {
  "kernelspec": {
   "display_name": "Python 3",
   "language": "python",
   "name": "python3"
  },
  "language_info": {
   "codemirror_mode": {
    "name": "ipython",
    "version": 3
   },
   "file_extension": ".py",
   "mimetype": "text/x-python",
   "name": "python",
   "nbconvert_exporter": "python",
   "pygments_lexer": "ipython3",
   "version": "3.6.5"
  }
 },
 "nbformat": 4,
 "nbformat_minor": 2
}
