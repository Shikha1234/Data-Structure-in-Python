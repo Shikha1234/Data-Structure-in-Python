{
 "cells": [
  {
   "cell_type": "raw",
   "metadata": {},
   "source": [
    "In some situation allcation of memory to store data cannot be possible in continuous\n",
    "memmory block of memory so we take help of pointers where the along with the data,the address of next location of data element is also stored.\n",
    "\n",
    "So we can get the address of next element from the values of current data element.This is also known as\n",
    "pointers."
   ]
  },
  {
   "cell_type": "code",
   "execution_count": 1,
   "metadata": {},
   "outputs": [],
   "source": [
    "#Creating of nodes\n",
    "\n",
    "#Node Creation - By Implementing class which will contain pointers along wiht data element\n",
    "\n",
    "\n",
    "class daynames:\n",
    "    def __init__ (self, dataval=None):\n",
    "        self.dataval = dataval\n",
    "        self.nextval = None\n",
    "\n",
    "p1 = daynames('Mon')\n",
    "p2 = daynames('Tue')\n",
    "p3 = daynames('Wed')\n",
    "\n",
    "\n",
    "p1.nextval =  p3\n",
    "p3.nextval = p2\n",
    "\n",
    "        \n",
    "        "
   ]
  },
  {
   "cell_type": "code",
   "execution_count": null,
   "metadata": {},
   "outputs": [],
   "source": [
    "#Traversing the node elements\n",
    "class daynames:\n",
    "    def __init__(self, dataval= None):\n",
    "        self.dataval = dataval\n",
    "        self.nextval = None\n",
    "\n",
    "p1 = daynames('Tue')\n",
    "p2 = daynames('Wed')\n",
    "p3 = daynames('Thus')\n",
    "p4 = daynames('Fri')\n",
    "\n",
    "p1.nextval = p3\n",
    "p3.nextval = p2\n",
    "p2.nextval = p4\n",
    "\n",
    "thisvalue = p1\n",
    "\n",
    "while thisvalue:\n",
    "    print(thisvalue.dataval)\n",
    "    thisvalue = thisvalue.nextval"
   ]
  },
  {
   "cell_type": "code",
   "execution_count": null,
   "metadata": {},
   "outputs": [],
   "source": []
  }
 ],
 "metadata": {
  "kernelspec": {
   "display_name": "Python 3",
   "language": "python",
   "name": "python3"
  },
  "language_info": {
   "codemirror_mode": {
    "name": "ipython",
    "version": 3
   },
   "file_extension": ".py",
   "mimetype": "text/x-python",
   "name": "python",
   "nbconvert_exporter": "python",
   "pygments_lexer": "ipython3",
   "version": "3.6.5"
  }
 },
 "nbformat": 4,
 "nbformat_minor": 2
}
