{
 "cells": [
  {
   "cell_type": "raw",
   "metadata": {},
   "source": [
    "Set is a collection of items not in any particular order/\n",
    "-The elements  in the set cannot be duplicates\n",
    "-The elements in the set immutable but the set as a whole is mutable.\n",
    "-No Indexing\n"
   ]
  },
  {
   "cell_type": "code",
   "execution_count": 6,
   "metadata": {},
   "outputs": [
    {
     "name": "stdout",
     "output_type": "stream",
     "text": [
      "{'Thu', 'Sat', 'Mon', 'Wed', 'Sun', 'Tue', 'Fri'}\n",
      "{'Mar', 'Jan', 'Feb'}\n",
      "{17, 21, 22}\n"
     ]
    }
   ],
   "source": [
    "#Set Operation\n",
    "#Like Union intersection\n",
    "\n",
    "#Creating a set \n",
    "\n",
    "Days=set([\"Mon\",\"Tue\",\"Wed\",\"Thu\",\"Fri\",\"Sat\",\"Sun\"])\n",
    "Months={\"Jan\",\"Feb\",\"Mar\"}\n",
    "Dates={21,22,17}\n",
    "print(Days)\n",
    "print(Months)\n",
    "print(Dates)\n",
    " \n"
   ]
  },
  {
   "cell_type": "code",
   "execution_count": 7,
   "metadata": {},
   "outputs": [
    {
     "name": "stdout",
     "output_type": "stream",
     "text": [
      "Thu\n",
      "Sat\n",
      "Mon\n",
      "Wed\n",
      "Sun\n",
      "Tue\n",
      "Fri\n"
     ]
    }
   ],
   "source": [
    "#Accessing Values in a set\n",
    "Days = set([\"Mon\",\"Tue\",\"Wed\",\"Thu\",\"Fri\",\"Sat\",\"Sun\"])\n",
    "\n",
    "for d in Days:\n",
    "    print(d)"
   ]
  },
  {
   "cell_type": "code",
   "execution_count": 9,
   "metadata": {},
   "outputs": [
    {
     "name": "stdout",
     "output_type": "stream",
     "text": [
      "{'Thu', 'Sat', 'Mon', 'Wed', 'Sun', 'Tue', 'Fri'}\n"
     ]
    }
   ],
   "source": [
    "#Adding Items to a set \n",
    "Days = set([\"Mon\",\"Tue\",\"Wed\",\"Thu\",\"Fri\",\"Sat\"])\n",
    "\n",
    "Days.add(\"Sun\")\n",
    "print(Days)"
   ]
  },
  {
   "cell_type": "code",
   "execution_count": 12,
   "metadata": {},
   "outputs": [
    {
     "name": "stdout",
     "output_type": "stream",
     "text": [
      "{'Thu', 'Sat', 'Mon', 'Wed', 'Tue', 'Fri'}\n"
     ]
    }
   ],
   "source": [
    "#Removing item from a set\n",
    "\n",
    "Days = set([\"Mon\",\"Tue\",\"Wed\",\"Thu\",\"Fri\",\"Sat\",\"Sun\"])\n",
    "\n",
    "\n",
    "Days.discard(\"Sun\")\n",
    "print(Days)"
   ]
  },
  {
   "cell_type": "code",
   "execution_count": 14,
   "metadata": {},
   "outputs": [
    {
     "name": "stdout",
     "output_type": "stream",
     "text": [
      "{'Thu', 'Sat', 'Mon', 'Sun', 'Tue', 'Web', 'Fri'}\n"
     ]
    }
   ],
   "source": [
    "#Union of sets \n",
    "#Containing all the distinct elements from both the sets..\n",
    "\n",
    "DaysA=set([\"Mon\",\"Tue\",\"Web\"])\n",
    "DaysB=set([\"Web\",\"Thu\",\"Fri\",\"Sat\",\"Sun\"])\n",
    "\n",
    "Alldays = DaysA|DaysB\n",
    "\n",
    "print(Alldays)\n"
   ]
  },
  {
   "cell_type": "code",
   "execution_count": 42,
   "metadata": {},
   "outputs": [
    {
     "name": "stdout",
     "output_type": "stream",
     "text": [
      "set()\n"
     ]
    }
   ],
   "source": [
    "#Intersection of Sets\n",
    "\n",
    "DaysA=set([\"Mon\",\"Tue\",\"Wed\"])\n",
    "DaysB=set([\"Web\",\"Thu\",\"Fri\",\"Sat\",\"Sun\"])\n",
    "\n",
    "Alldays = DaysA & DaysB\n",
    "\n",
    "print(Alldays)\n"
   ]
  },
  {
   "cell_type": "code",
   "execution_count": 41,
   "metadata": {},
   "outputs": [
    {
     "name": "stdout",
     "output_type": "stream",
     "text": [
      "{'Tue', 'Mon', 'Wed'}\n"
     ]
    }
   ],
   "source": [
    "#Difference Of Sets\n",
    "#Containing Element of first set whichi not in comman with second set\n",
    "\n",
    "DaysA=set([\"Mon\",\"Tue\",\"Wed\"])\n",
    "DaysB=set([\"Web\",\"Thu\",\"Fri\",\"Sat\",\"Sun\"])\n",
    "\n",
    "Alldays = DaysA - DaysB\n",
    "\n",
    "\n",
    "print(Alldays)\n",
    "\n"
   ]
  },
  {
   "cell_type": "code",
   "execution_count": 46,
   "metadata": {},
   "outputs": [
    {
     "name": "stdout",
     "output_type": "stream",
     "text": [
      "True\n",
      "True\n"
     ]
    }
   ],
   "source": [
    "#Compare Sets\n",
    "\n",
    "\n",
    "DaysA = set([\"Mon\",\"Tue\",\"Wed\"])\n",
    "DaysB = set([\"Mon\",\"Tue\",\"Wed\",\"Thu\",\"Fri\",\"Sat\",\"Sun\"])\n",
    "\n",
    "SubsetRes = DaysA <= DaysB\n",
    "SupersetRes = DaysB >= DaysA\n",
    "\n",
    "print(SubsetRes)\n",
    "print(SupersetRes)\n"
   ]
  },
  {
   "cell_type": "code",
   "execution_count": null,
   "metadata": {},
   "outputs": [],
   "source": []
  }
 ],
 "metadata": {
  "kernelspec": {
   "display_name": "Python 3",
   "language": "python",
   "name": "python3"
  },
  "language_info": {
   "codemirror_mode": {
    "name": "ipython",
    "version": 3
   },
   "file_extension": ".py",
   "mimetype": "text/x-python",
   "name": "python",
   "nbconvert_exporter": "python",
   "pygments_lexer": "ipython3",
   "version": "3.6.5"
  }
 },
 "nbformat": 4,
 "nbformat_minor": 2
}
