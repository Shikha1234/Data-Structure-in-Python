{
 "cells": [
  {
   "cell_type": "raw",
   "metadata": {},
   "source": [
    "Tuples: A tuples is a sequence of immutables objects in python. Tuples are sequence, just like lists"
   ]
  },
  {
   "cell_type": "code",
   "execution_count": 12,
   "metadata": {},
   "outputs": [],
   "source": [
    "#Examples of Tuples:\n",
    "\n",
    "tup1 = ('physics','chemistry',1994,2001)\n",
    "tup2 =(1,2,3,4,5)\n",
    "tup3 = \"s\",\"h\",\"i\",\"k\",\"h\",\"a\"\n",
    "\n",
    "#Empty tuple\n",
    "tup1 = ()\n",
    "\n",
    "#Tuple with single value\n",
    "tup1 = (41,)"
   ]
  },
  {
   "cell_type": "code",
   "execution_count": 13,
   "metadata": {},
   "outputs": [
    {
     "name": "stdout",
     "output_type": "stream",
     "text": [
      "(41,)\n"
     ]
    }
   ],
   "source": [
    "print(tup1)"
   ]
  },
  {
   "cell_type": "code",
   "execution_count": 14,
   "metadata": {},
   "outputs": [
    {
     "name": "stdout",
     "output_type": "stream",
     "text": [
      "tup1[0]: physics\n",
      "tup1[1:5] (2, 3, 4, 5)\n"
     ]
    }
   ],
   "source": [
    "#Accessing Values in Tuples\n",
    "tup1 = ('physics','Chemistry', 1997, 2000)\n",
    "tup2 = (1,2,3,4,5,6,7)\n",
    "print(\"tup1[0]:\", tup1[0])\n",
    "print(\"tup1[1:5]\",tup2[1:5])"
   ]
  },
  {
   "cell_type": "code",
   "execution_count": 16,
   "metadata": {},
   "outputs": [
    {
     "name": "stdout",
     "output_type": "stream",
     "text": [
      "(12, 33.54, 'abc', 'xyz')\n"
     ]
    }
   ],
   "source": [
    "#Updating Tuples \n",
    "tup1 = (12,33.54)\n",
    "tup2 = ('abc','xyz')\n",
    "\n",
    "#Given below action is not valid for tuples\n",
    "#tup[0] = 100\n",
    "\n",
    "#So we need to create new tuple\n",
    "tup3 = tup1 + tup2\n",
    "print(tup3)"
   ]
  },
  {
   "cell_type": "code",
   "execution_count": 18,
   "metadata": {},
   "outputs": [
    {
     "name": "stdout",
     "output_type": "stream",
     "text": [
      "('physics', 'chemistry', 1997, 2000)\n",
      "After Deleting Tup\n"
     ]
    },
    {
     "ename": "NameError",
     "evalue": "name 'tup' is not defined",
     "output_type": "error",
     "traceback": [
      "\u001b[1;31m---------------------------------------------------------------------------\u001b[0m",
      "\u001b[1;31mNameError\u001b[0m                                 Traceback (most recent call last)",
      "\u001b[1;32m<ipython-input-18-2ee03a7b2510>\u001b[0m in \u001b[0;36m<module>\u001b[1;34m()\u001b[0m\n\u001b[0;32m      4\u001b[0m \u001b[1;32mdel\u001b[0m \u001b[0mtup\u001b[0m\u001b[1;33m\u001b[0m\u001b[0m\n\u001b[0;32m      5\u001b[0m \u001b[0mprint\u001b[0m\u001b[1;33m(\u001b[0m\u001b[1;34m\"After Deleting Tup\"\u001b[0m\u001b[1;33m)\u001b[0m\u001b[1;33m\u001b[0m\u001b[0m\n\u001b[1;32m----> 6\u001b[1;33m \u001b[0mprint\u001b[0m\u001b[1;33m(\u001b[0m\u001b[0mtup\u001b[0m\u001b[1;33m)\u001b[0m\u001b[1;33m\u001b[0m\u001b[0m\n\u001b[0m",
      "\u001b[1;31mNameError\u001b[0m: name 'tup' is not defined"
     ]
    }
   ],
   "source": [
    "#Delete Tuple Elements \n",
    "tup = ('physics','chemistry', 1997, 2000)\n",
    "print(tup)\n",
    "del tup\n",
    "print(\"After Deleting Tup\")\n",
    "print(tup)"
   ]
  },
  {
   "cell_type": "code",
   "execution_count": null,
   "metadata": {},
   "outputs": [],
   "source": []
  }
 ],
 "metadata": {
  "kernelspec": {
   "display_name": "Python 3",
   "language": "python",
   "name": "python3"
  },
  "language_info": {
   "codemirror_mode": {
    "name": "ipython",
    "version": 3
   },
   "file_extension": ".py",
   "mimetype": "text/x-python",
   "name": "python",
   "nbconvert_exporter": "python",
   "pygments_lexer": "ipython3",
   "version": "3.6.5"
  }
 },
 "nbformat": 4,
 "nbformat_minor": 2
}
